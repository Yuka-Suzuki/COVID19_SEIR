{
 "cells": [
  {
   "cell_type": "code",
   "execution_count": 1,
   "metadata": {},
   "outputs": [],
   "source": [
    "import matplotlib.pyplot as plt"
   ]
  },
  {
   "cell_type": "code",
   "execution_count": 2,
   "metadata": {},
   "outputs": [],
   "source": [
    "def SEIR(S0,E0,I0,R0,N,r,i,l,time):\n",
    "        # COVID19 version, in which people in lateycy period are infectious\n",
    "        # initial state\n",
    "        S = S0; E = E0; I = I0; R = R0\n",
    "\n",
    "        data = {'S':[S],'E':[E],'I':[I],'R':[R]}\n",
    "        for t in range(time):\n",
    "                h = 0.1 # h is the increment in Euler's method\n",
    "                for j in range(int(1/h)):\n",
    "                        infectious = I + E # this is equal to I in the original model. but for COVID19, we assume I + E that asymptomatic people are also infectious\n",
    "                        #infectious = I # original SEIR model\n",
    "                        S += h* (-(r/i)*(S/N)*infectious)\n",
    "                        E += h* ((r/i)*(S/N)*infectious - (1/l)*E)\n",
    "                        I += h* ((1/l)*E - (1/i)*I)\n",
    "                        R += h* (1/i)*I\n",
    "                data['S'].append(S)\n",
    "                data['E'].append(E)\n",
    "                data['I'].append(I)\n",
    "                data['R'].append(R)\n",
    "        return data"
   ]
  },
  {
   "cell_type": "code",
   "execution_count": 9,
   "metadata": {},
   "outputs": [],
   "source": [
    "def Plot(data,param):\n",
    "        x = range(len(data['S']))\n",
    "        plt.plot(x,data['I'],marker='.',linestyle='none',label=param)\n",
    "        plt.xlabel('days')\n",
    "        plt.ylabel('Number of people in the infected state each day')"
   ]
  },
  {
   "cell_type": "code",
   "execution_count": 12,
   "metadata": {},
   "outputs": [
    {
     "data": {
      "image/png": "[encoded data removed]",
      "text/plain": [
       "<Figure size 432x288 with 1 Axes>"
      ]
     },
     "metadata": {
      "needs_background": "light"
     },
     "output_type": "display_data"
    }
   ],
   "source": [
    "# Parameters\n",
    "N = 100000.0 # population in Okinawa\n",
    "time = 400\n",
    "r_ls = [2.5,3] # basic reproduction rate\n",
    "E0 = 0 # number of people in the latency period at day 0\n",
    "I0 = 1 # number of people in the infected state at day 0\n",
    "R0 = 0 # number of people in the recovered state at day 0\n",
    "S0 = N - (E0 + I0 + R0) # number of people in the susceptible state at day 0\n",
    "\n",
    "# Estimated parameters of coronavirus\n",
    "i = 10.0 # average symptomatic period (days)\n",
    "l = 5.0 # average latency period (days)\n",
    "\n",
    "# Calculation\n",
    "for r in r_ls:\n",
    "        results = SEIR(S0,E0,I0,R0,N,r,i,l,time)\n",
    "        Plot(results,r)\n",
    "plt.legend()\n",
    "plt.show()"
   ]
  },
  {
   "cell_type": "code",
   "execution_count": null,
   "metadata": {},
   "outputs": [],
   "source": []
  }
 ],
 "metadata": {
  "kernelspec": {
   "display_name": "Python 3",
   "language": "python",
   "name": "python3"
  },
  "language_info": {
   "codemirror_mode": {
    "name": "ipython",
    "version": 3
   },
   "file_extension": ".py",
   "mimetype": "text/x-python",
   "name": "python",
   "nbconvert_exporter": "python",
   "pygments_lexer": "ipython3",
   "version": "3.7.6"
  }
 },
 "nbformat": 4,
 "nbformat_minor": 4
}
